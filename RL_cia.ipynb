{
 "cells": [
  {
   "cell_type": "code",
   "execution_count": 2,
   "id": "0d048204",
   "metadata": {},
   "outputs": [],
   "source": [
    "import numpy as np\n",
    "import matplotlib.pyplot as plt\n",
    "import random\n",
    "from collections import defaultdict"
   ]
  },
  {
   "cell_type": "code",
   "execution_count": 3,
   "id": "c417d76e",
   "metadata": {},
   "outputs": [],
   "source": [
    "# Grid and environment setup\n",
    "GRID_SIZE = 100\n",
    "OBSTACLE_RATIO = 0.2  # 20% of the grid as obstacles\n",
    "START, GOAL = (0, 0), (GRID_SIZE-1, GRID_SIZE-1)\n"
   ]
  },
  {
   "cell_type": "code",
   "execution_count": 4,
   "id": "eacb8c0d",
   "metadata": {},
   "outputs": [],
   "source": [
    "# Create grid and add obstacles\n",
    "def create_grid():\n",
    "    grid = np.zeros((GRID_SIZE, GRID_SIZE))\n",
    "    obstacles = np.random.choice([0, 1], size=(GRID_SIZE, GRID_SIZE), p=[1 - OBSTACLE_RATIO, OBSTACLE_RATIO])\n",
    "    grid = np.where(obstacles == 1, -1, 0)  # -1 represents an obstacle\n",
    "    grid[START] = 0  # Ensure start is not blocked\n",
    "    grid[GOAL] = 0   # Ensure goal is not blocked\n",
    "    return grid\n",
    "\n",
    "grid = create_grid()\n",
    "\n",
    "# MDP and Reward Setup\n",
    "ACTIONS = [(-1, 0), (1, 0), (0, -1), (0, 1)]  # up, down, left, right\n",
    "REWARD_STEP = -1\n",
    "REWARD_GOAL = 100\n",
    "REWARD_OBSTACLE = -100"
   ]
  },
  {
   "cell_type": "code",
   "execution_count": 5,
   "id": "581fa5cc",
   "metadata": {},
   "outputs": [],
   "source": [
    "# Check if the position is valid\n",
    "def is_valid(pos):\n",
    "    x, y = pos\n",
    "    return 0 <= x < GRID_SIZE and 0 <= y < GRID_SIZE and grid[x, y] != -1\n"
   ]
  },
  {
   "cell_type": "code",
   "execution_count": 6,
   "id": "9952c2a3",
   "metadata": {},
   "outputs": [],
   "source": [
    "# Transition function\n",
    "def transition(state, action):\n",
    "    next_state = (state[0] + action[0], state[1] + action[1])\n",
    "    if is_valid(next_state):\n",
    "        return next_state\n",
    "    return state  # remain in place if the move is invalid"
   ]
  },
  {
   "cell_type": "code",
   "execution_count": 7,
   "id": "fca66ef5",
   "metadata": {},
   "outputs": [],
   "source": [
    "\n",
    "# Visualize the grid\n",
    "def plot_grid(grid, path=None):\n",
    "    plt.figure(figsize=(10, 10))\n",
    "    plt.imshow(grid, cmap='gray_r')\n",
    "    plt.scatter(*START[::-1], c='blue', s=100, label=\"Start\")\n",
    "    plt.scatter(*GOAL[::-1], c='green', s=100, label=\"Goal\")\n",
    "    if path:\n",
    "        for (x, y) in path:\n",
    "            plt.scatter(y, x, c='red', s=10)\n",
    "    plt.legend()\n",
    "    plt.show()"
   ]
  },
  {
   "cell_type": "code",
   "execution_count": 8,
   "id": "38fea861",
   "metadata": {},
   "outputs": [
    {
     "data": {
      "image/png": "[encoded data removed]",
      "text/plain": [
       "<Figure size 1000x1000 with 1 Axes>"
      ]
     },
     "metadata": {},
     "output_type": "display_data"
    }
   ],
   "source": [
    "# Display the initial grid setup\n",
    "plot_grid(grid)"
   ]
  },
  {
   "cell_type": "code",
   "execution_count": 9,
   "id": "a3eba064",
   "metadata": {},
   "outputs": [],
   "source": [
    "### Dynamic Programming - Value Iteration\n",
    "def value_iteration(grid, gamma=0.9, threshold=1e-4):\n",
    "    values = np.zeros_like(grid, dtype=float)\n",
    "    policy = np.zeros(grid.shape + (len(ACTIONS),))  # Policy table\n",
    "    while True:\n",
    "        delta = 0\n",
    "        for x in range(GRID_SIZE):\n",
    "            for y in range(GRID_SIZE):\n",
    "                if (x, y) == GOAL:\n",
    "                    continue\n",
    "                v = values[x, y]\n",
    "                action_values = []\n",
    "                for a, action in enumerate(ACTIONS):\n",
    "                    next_state = transition((x, y), action)\n",
    "                    reward = REWARD_GOAL if next_state == GOAL else REWARD_STEP\n",
    "                    action_values.append(reward + gamma * values[next_state])\n",
    "                values[x, y] = max(action_values)\n",
    "                policy[x, y] = np.eye(len(ACTIONS))[np.argmax(action_values)]\n",
    "                delta = max(delta, abs(v - values[x, y]))\n",
    "        if delta < threshold:\n",
    "            break\n",
    "    return values, policy\n",
    "\n",
    "values_dp, policy_dp = value_iteration(grid)"
   ]
  },
  {
   "cell_type": "code",
   "execution_count": 10,
   "id": "f656303c",
   "metadata": {},
   "outputs": [],
   "source": [
    "### Q-Learning Implementation\n",
    "def q_learning(grid, episodes=1000, alpha=0.1, gamma=0.9, epsilon=0.1):\n",
    "    q_values = defaultdict(lambda: np.zeros(len(ACTIONS)))\n",
    "    for episode in range(episodes):\n",
    "        state = START\n",
    "        while state != GOAL:\n",
    "            if random.random() < epsilon:\n",
    "                action_index = random.randint(0, len(ACTIONS) - 1)\n",
    "            else:\n",
    "                action_index = np.argmax(q_values[state])\n",
    "            action = ACTIONS[action_index]\n",
    "            next_state = transition(state, action)\n",
    "            reward = REWARD_GOAL if next_state == GOAL else REWARD_STEP if grid[next_state] == 0 else REWARD_OBSTACLE\n",
    "            best_next_action = np.argmax(q_values[next_state])\n",
    "            td_target = reward + gamma * q_values[next_state][best_next_action]\n",
    "            q_values[state][action_index] += alpha * (td_target - q_values[state][action_index])\n",
    "            state = next_state\n",
    "    return q_values\n",
    "\n",
    "q_values_qlearning = q_learning(grid)"
   ]
  },
  {
   "cell_type": "code",
   "execution_count": 11,
   "id": "377f4dac",
   "metadata": {},
   "outputs": [],
   "source": [
    "### SARSA Implementation\n",
    "def sarsa(grid, episodes=1000, alpha=0.1, gamma=0.9, epsilon=0.1):\n",
    "    q_values = defaultdict(lambda: np.zeros(len(ACTIONS)))\n",
    "    for episode in range(episodes):\n",
    "        state = START\n",
    "        if random.random() < epsilon:\n",
    "            action_index = random.randint(0, len(ACTIONS) - 1)\n",
    "        else:\n",
    "            action_index = np.argmax(q_values[state])\n",
    "        while state != GOAL:\n",
    "            action = ACTIONS[action_index]\n",
    "            next_state = transition(state, action)\n",
    "            reward = REWARD_GOAL if next_state == GOAL else REWARD_STEP if grid[next_state] == 0 else REWARD_OBSTACLE\n",
    "            if random.random() < epsilon:\n",
    "                next_action_index = random.randint(0, len(ACTIONS) - 1)\n",
    "            else:\n",
    "                next_action_index = np.argmax(q_values[next_state])\n",
    "            td_target = reward + gamma * q_values[next_state][next_action_index]\n",
    "            q_values[state][action_index] += alpha * (td_target - q_values[state][action_index])\n",
    "            state, action_index = next_state, next_action_index\n",
    "    return q_values\n",
    "\n",
    "q_values_sarsa = sarsa(grid)"
   ]
  },
  {
   "cell_type": "code",
   "execution_count": 13,
   "id": "c5988fb5",
   "metadata": {},
   "outputs": [],
   "source": [
    "### Benchmarking and Results\n",
    "def get_policy_from_q(q_values):\n",
    "    policy = np.zeros((GRID_SIZE, GRID_SIZE), dtype=int)\n",
    "    for x in range(GRID_SIZE):\n",
    "        for y in range(GRID_SIZE):\n",
    "            policy[x, y] = np.argmax(q_values[(x, y)])\n",
    "    return policy\n",
    "\n",
    "policy_qlearning = get_policy_from_q(q_values_qlearning)\n",
    "policy_sarsa = get_policy_from_q(q_values_sarsa)"
   ]
  },
  {
   "cell_type": "code",
   "execution_count": 14,
   "id": "485527c1",
   "metadata": {},
   "outputs": [
    {
     "name": "stdout",
     "output_type": "stream",
     "text": [
      "DP Policy Example:\n",
      "[[[1. 0. 0. 0.]\n",
      "  [1. 0. 0. 0.]\n",
      "  [1. 0. 0. 0.]\n",
      "  [1. 0. 0. 0.]\n",
      "  [1. 0. 0. 0.]\n",
      "  [1. 0. 0. 0.]\n",
      "  [1. 0. 0. 0.]\n",
      "  [1. 0. 0. 0.]\n",
      "  [1. 0. 0. 0.]\n",
      "  [1. 0. 0. 0.]]\n",
      "\n",
      " [[0. 1. 0. 0.]\n",
      "  [0. 1. 0. 0.]\n",
      "  [1. 0. 0. 0.]\n",
      "  [0. 1. 0. 0.]\n",
      "  [1. 0. 0. 0.]\n",
      "  [0. 1. 0. 0.]\n",
      "  [1. 0. 0. 0.]\n",
      "  [0. 1. 0. 0.]\n",
      "  [1. 0. 0. 0.]\n",
      "  [0. 1. 0. 0.]]\n",
      "\n",
      " [[0. 1. 0. 0.]\n",
      "  [1. 0. 0. 0.]\n",
      "  [0. 1. 0. 0.]\n",
      "  [0. 1. 0. 0.]\n",
      "  [1. 0. 0. 0.]\n",
      "  [0. 1. 0. 0.]\n",
      "  [0. 1. 0. 0.]\n",
      "  [1. 0. 0. 0.]\n",
      "  [0. 1. 0. 0.]\n",
      "  [0. 1. 0. 0.]]\n",
      "\n",
      " [[0. 1. 0. 0.]\n",
      "  [0. 1. 0. 0.]\n",
      "  [0. 1. 0. 0.]\n",
      "  [0. 1. 0. 0.]\n",
      "  [0. 1. 0. 0.]\n",
      "  [1. 0. 0. 0.]\n",
      "  [0. 1. 0. 0.]\n",
      "  [0. 1. 0. 0.]\n",
      "  [1. 0. 0. 0.]\n",
      "  [0. 1. 0. 0.]]\n",
      "\n",
      " [[1. 0. 0. 0.]\n",
      "  [0. 1. 0. 0.]\n",
      "  [0. 1. 0. 0.]\n",
      "  [0. 1. 0. 0.]\n",
      "  [0. 1. 0. 0.]\n",
      "  [0. 1. 0. 0.]\n",
      "  [0. 1. 0. 0.]\n",
      "  [0. 1. 0. 0.]\n",
      "  [1. 0. 0. 0.]\n",
      "  [0. 1. 0. 0.]]\n",
      "\n",
      " [[0. 1. 0. 0.]\n",
      "  [0. 1. 0. 0.]\n",
      "  [1. 0. 0. 0.]\n",
      "  [0. 1. 0. 0.]\n",
      "  [0. 1. 0. 0.]\n",
      "  [0. 1. 0. 0.]\n",
      "  [0. 1. 0. 0.]\n",
      "  [0. 1. 0. 0.]\n",
      "  [1. 0. 0. 0.]\n",
      "  [0. 1. 0. 0.]]\n",
      "\n",
      " [[0. 1. 0. 0.]\n",
      "  [1. 0. 0. 0.]\n",
      "  [0. 1. 0. 0.]\n",
      "  [0. 1. 0. 0.]\n",
      "  [0. 1. 0. 0.]\n",
      "  [0. 1. 0. 0.]\n",
      "  [0. 1. 0. 0.]\n",
      "  [1. 0. 0. 0.]\n",
      "  [0. 1. 0. 0.]\n",
      "  [0. 1. 0. 0.]]\n",
      "\n",
      " [[1. 0. 0. 0.]\n",
      "  [0. 1. 0. 0.]\n",
      "  [1. 0. 0. 0.]\n",
      "  [0. 1. 0. 0.]\n",
      "  [1. 0. 0. 0.]\n",
      "  [0. 1. 0. 0.]\n",
      "  [0. 1. 0. 0.]\n",
      "  [0. 1. 0. 0.]\n",
      "  [0. 1. 0. 0.]\n",
      "  [0. 1. 0. 0.]]\n",
      "\n",
      " [[1. 0. 0. 0.]\n",
      "  [0. 1. 0. 0.]\n",
      "  [0. 1. 0. 0.]\n",
      "  [1. 0. 0. 0.]\n",
      "  [0. 1. 0. 0.]\n",
      "  [0. 1. 0. 0.]\n",
      "  [0. 1. 0. 0.]\n",
      "  [0. 1. 0. 0.]\n",
      "  [0. 1. 0. 0.]\n",
      "  [0. 1. 0. 0.]]\n",
      "\n",
      " [[1. 0. 0. 0.]\n",
      "  [0. 1. 0. 0.]\n",
      "  [0. 1. 0. 0.]\n",
      "  [0. 1. 0. 0.]\n",
      "  [0. 1. 0. 0.]\n",
      "  [0. 1. 0. 0.]\n",
      "  [0. 1. 0. 0.]\n",
      "  [0. 1. 0. 0.]\n",
      "  [0. 1. 0. 0.]\n",
      "  [0. 1. 0. 0.]]]\n"
     ]
    }
   ],
   "source": [
    "print(\"DP Policy Example:\")\n",
    "print(policy_dp[:10, :10])"
   ]
  },
  {
   "cell_type": "code",
   "execution_count": 15,
   "id": "f06b60be",
   "metadata": {},
   "outputs": [
    {
     "name": "stdout",
     "output_type": "stream",
     "text": [
      "\n",
      "Q-Learning Policy Example:\n",
      "[[1 0 0 2 0 0 0 0 0 0]\n",
      " [1 0 0 0 0 2 0 0 1 1]\n",
      " [3 3 1 3 1 0 2 1 0 2]\n",
      " [0 3 1 3 2 0 2 1 0 2]\n",
      " [2 3 0 2 3 3 1 3 0 1]\n",
      " [3 0 1 1 3 1 3 0 0 3]\n",
      " [0 0 0 2 0 2 0 2 0 3]\n",
      " [0 1 0 0 1 3 3 3 0 1]\n",
      " [0 2 0 1 1 3 2 3 1 0]\n",
      " [0 1 2 0 3 2 1 3 2 3]]\n"
     ]
    }
   ],
   "source": [
    "print(\"\\nQ-Learning Policy Example:\")\n",
    "print(policy_qlearning[:10, :10])"
   ]
  },
  {
   "cell_type": "code",
   "execution_count": 16,
   "id": "2878f360",
   "metadata": {},
   "outputs": [
    {
     "name": "stdout",
     "output_type": "stream",
     "text": [
      "\n",
      "SARSA Policy Example:\n",
      "[[3 0 0 0 0 0 0 0 0 1]\n",
      " [1 0 1 0 0 1 2 0 2 0]\n",
      " [3 1 0 2 2 0 2 0 0 3]\n",
      " [0 1 3 1 3 1 0 0 0 3]\n",
      " [1 2 0 3 3 3 2 0 0 2]\n",
      " [0 0 1 1 3 1 0 0 3 3]\n",
      " [0 0 0 2 0 3 3 3 0 1]\n",
      " [0 0 0 0 0 1 0 0 0 3]\n",
      " [0 2 2 1 2 0 2 2 1 0]\n",
      " [2 1 0 2 2 0 2 2 3 3]]\n"
     ]
    }
   ],
   "source": [
    "print(\"\\nSARSA Policy Example:\")\n",
    "print(policy_sarsa[:10, :10])"
   ]
  },
  {
   "cell_type": "code",
   "execution_count": 17,
   "id": "cbb93e6b",
   "metadata": {},
   "outputs": [
    {
     "data": {
      "image/png": "[encoded data removed]",
      "text/plain": [
       "<Figure size 1000x1000 with 1 Axes>"
      ]
     },
     "metadata": {},
     "output_type": "display_data"
    }
   ],
   "source": [
    "plot_grid(grid, path=[START])  # To visualize"
   ]
  },
  {
   "cell_type": "code",
   "execution_count": null,
   "id": "c6e7e034",
   "metadata": {},
   "outputs": [],
   "source": []
  }
 ],
 "metadata": {
  "kernelspec": {
   "display_name": "Python 3 (ipykernel)",
   "language": "python",
   "name": "python3"
  },
  "language_info": {
   "codemirror_mode": {
    "name": "ipython",
    "version": 3
   },
   "file_extension": ".py",
   "mimetype": "text/x-python",
   "name": "python",
   "nbconvert_exporter": "python",
   "pygments_lexer": "ipython3",
   "version": "3.10.9"
  }
 },
 "nbformat": 4,
 "nbformat_minor": 5
}
